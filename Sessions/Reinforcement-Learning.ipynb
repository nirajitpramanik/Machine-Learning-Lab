{
  "cells": [
    {
      "cell_type": "markdown",
      "metadata": {
        "id": "view-in-github",
        "colab_type": "text"
      },
      "source": [
        "<a href=\"https://colab.research.google.com/github/NP-15/Machine-learning/blob/main/Sessions/Reinforcement-Learning.ipynb\" target=\"_parent\"><img src=\"https://colab.research.google.com/assets/colab-badge.svg\" alt=\"Open In Colab\"/></a>"
      ]
    },
    {
      "cell_type": "markdown",
      "metadata": {
        "id": "X9KvU0oduTM5"
      },
      "source": [
        "### Imports"
      ]
    },
    {
      "cell_type": "code",
      "execution_count": null,
      "metadata": {
        "id": "jWqmkM_TuODV"
      },
      "outputs": [],
      "source": [
        "import numpy as np\n",
        "import matplotlib.pyplot as plt"
      ]
    },
    {
      "cell_type": "markdown",
      "metadata": {
        "id": "MsU1T8-_uVIC"
      },
      "source": [
        "### Creating the classes"
      ]
    },
    {
      "cell_type": "code",
      "execution_count": null,
      "metadata": {
        "id": "1ey6z9p_uXN4"
      },
      "outputs": [],
      "source": [
        "class MarkovDecisionProcess:\n",
        "    def __init__(self, n_states, n_actions, transition_probs, rewards, gamma=0.9):\n",
        "        self.n_states = n_states\n",
        "        self.n_actions = n_actions\n",
        "        self.transition_probs = transition_probs\n",
        "        self.rewards = rewards\n",
        "        self.gamma = gamma\n",
        "\n",
        "    def value_iteration(self, epsilon=0.01):\n",
        "        V = np.zeros(self.n_states)\n",
        "        while True:\n",
        "            prev_V = np.copy(V)\n",
        "            for s in range(self.n_states):\n",
        "                V[s] = max([sum([self.transition_probs[s][a][s1] * (self.rewards[s][a][s1] + self.gamma * prev_V[s1]) for s1 in range(self.n_states)]) for a in range(self.n_actions)])\n",
        "            if np.max(np.abs(prev_V - V)) < epsilon:\n",
        "                break\n",
        "        return V\n",
        "\n",
        "class QLearning:\n",
        "    def __init__(self, n_states, n_actions, transition_probs, rewards, alpha=0.1, gamma=0.9, epsilon=0.1, n_iter=10000):\n",
        "        self.n_states = n_states\n",
        "        self.n_actions = n_actions\n",
        "        self.transition_probs = transition_probs\n",
        "        self.rewards = rewards\n",
        "        self.alpha = alpha\n",
        "        self.gamma = gamma\n",
        "        self.epsilon = epsilon\n",
        "        self.n_iter = n_iter\n",
        "        self.Q = np.zeros((n_states, n_actions))\n",
        "\n",
        "    def choose_action(self, state):\n",
        "        if np.random.rand() < self.epsilon:\n",
        "            return np.random.choice(range(self.n_actions))\n",
        "        else:\n",
        "            return np.argmax(self.Q[state, :])\n",
        "\n",
        "    def update_Q(self, state, action, reward, next_state):\n",
        "        self.Q[state, action] += self.alpha * (reward + self.gamma * np.max(self.Q[next_state, :]) - self.Q[state, action])\n",
        "\n",
        "    def fit(self):\n",
        "        for _ in range(self.n_iter):\n",
        "            state = np.random.randint(0, self.n_states)\n",
        "            for _ in range(100):\n",
        "                action = self.choose_action(state)\n",
        "                next_state = np.random.choice(range(self.n_states), p=self.transition_probs[state][action])\n",
        "                reward = self.rewards[state][action][next_state]\n",
        "                self.update_Q(state, action, reward, next_state)\n",
        "                state = next_state\n",
        "        return self.Q"
      ]
    },
    {
      "cell_type": "markdown",
      "metadata": {
        "id": "OGxFPiuNvt_R"
      },
      "source": [
        "### Markov Decision Process"
      ]
    },
    {
      "cell_type": "code",
      "execution_count": null,
      "metadata": {
        "colab": {
          "background_save": true,
          "base_uri": "https://localhost:8080/"
        },
        "id": "KuF5TfN7vveE",
        "outputId": "79a1df0b-9e89-44bd-e7e8-56854e795479"
      },
      "outputs": [
        {
          "ename": "AxisError",
          "evalue": "axis 1 is out of bounds for array of dimension 1",
          "output_type": "error",
          "traceback": [
            "\u001b[0;31m---------------------------------------------------------------------------\u001b[0m",
            "\u001b[0;31mAxisError\u001b[0m                                 Traceback (most recent call last)",
            "\u001b[0;32m<ipython-input-1-7f8ed589e79c>\u001b[0m in \u001b[0;36m<cell line: 57>\u001b[0;34m()\u001b[0m\n\u001b[1;32m     55\u001b[0m \u001b[0mmdp\u001b[0m \u001b[0;34m=\u001b[0m \u001b[0mMarkovDecisionProcess\u001b[0m\u001b[0;34m(\u001b[0m\u001b[0mn_states\u001b[0m\u001b[0;34m=\u001b[0m\u001b[0;36m2\u001b[0m\u001b[0;34m,\u001b[0m \u001b[0mn_actions\u001b[0m\u001b[0;34m=\u001b[0m\u001b[0;36m2\u001b[0m\u001b[0;34m,\u001b[0m \u001b[0mtransition_probs\u001b[0m\u001b[0;34m=\u001b[0m\u001b[0mtransition_probs\u001b[0m\u001b[0;34m,\u001b[0m \u001b[0mrewards\u001b[0m\u001b[0;34m=\u001b[0m\u001b[0mrewards\u001b[0m\u001b[0;34m)\u001b[0m\u001b[0;34m\u001b[0m\u001b[0;34m\u001b[0m\u001b[0m\n\u001b[1;32m     56\u001b[0m \u001b[0;34m\u001b[0m\u001b[0m\n\u001b[0;32m---> 57\u001b[0;31m \u001b[0mV\u001b[0m \u001b[0;34m=\u001b[0m \u001b[0mmdp\u001b[0m\u001b[0;34m.\u001b[0m\u001b[0mvalue_iteration\u001b[0m\u001b[0;34m(\u001b[0m\u001b[0;34m)\u001b[0m\u001b[0;34m\u001b[0m\u001b[0;34m\u001b[0m\u001b[0m\n\u001b[0m\u001b[1;32m     58\u001b[0m \u001b[0moptimal_policy\u001b[0m \u001b[0;34m=\u001b[0m \u001b[0mmdp\u001b[0m\u001b[0;34m.\u001b[0m\u001b[0moptimal_policy\u001b[0m\u001b[0;34m(\u001b[0m\u001b[0mV\u001b[0m\u001b[0;34m)\u001b[0m\u001b[0;34m\u001b[0m\u001b[0;34m\u001b[0m\u001b[0m\n\u001b[1;32m     59\u001b[0m \u001b[0;34m\u001b[0m\u001b[0m\n",
            "\u001b[0;32m<ipython-input-1-7f8ed589e79c>\u001b[0m in \u001b[0;36mvalue_iteration\u001b[0;34m(self, tol)\u001b[0m\n\u001b[1;32m     17\u001b[0m             \u001b[0;32mfor\u001b[0m \u001b[0ms\u001b[0m \u001b[0;32min\u001b[0m \u001b[0mrange\u001b[0m\u001b[0;34m(\u001b[0m\u001b[0mself\u001b[0m\u001b[0;34m.\u001b[0m\u001b[0mn_states\u001b[0m\u001b[0;34m)\u001b[0m\u001b[0;34m:\u001b[0m\u001b[0;34m\u001b[0m\u001b[0;34m\u001b[0m\u001b[0m\n\u001b[1;32m     18\u001b[0m                 \u001b[0;32mfor\u001b[0m \u001b[0ma\u001b[0m \u001b[0;32min\u001b[0m \u001b[0mrange\u001b[0m\u001b[0;34m(\u001b[0m\u001b[0mself\u001b[0m\u001b[0;34m.\u001b[0m\u001b[0mn_actions\u001b[0m\u001b[0;34m)\u001b[0m\u001b[0;34m:\u001b[0m\u001b[0;34m\u001b[0m\u001b[0;34m\u001b[0m\u001b[0m\n\u001b[0;32m---> 19\u001b[0;31m                     \u001b[0mQ\u001b[0m\u001b[0;34m[\u001b[0m\u001b[0ms\u001b[0m\u001b[0;34m,\u001b[0m \u001b[0ma\u001b[0m\u001b[0;34m]\u001b[0m \u001b[0;34m=\u001b[0m \u001b[0mnp\u001b[0m\u001b[0;34m.\u001b[0m\u001b[0msum\u001b[0m\u001b[0;34m(\u001b[0m\u001b[0mself\u001b[0m\u001b[0;34m.\u001b[0m\u001b[0mtransition_probs\u001b[0m\u001b[0;34m[\u001b[0m\u001b[0ma\u001b[0m\u001b[0;34m]\u001b[0m\u001b[0;34m[\u001b[0m\u001b[0ms\u001b[0m\u001b[0;34m]\u001b[0m \u001b[0;34m*\u001b[0m \u001b[0;34m(\u001b[0m\u001b[0mself\u001b[0m\u001b[0;34m.\u001b[0m\u001b[0mrewards\u001b[0m\u001b[0;34m[\u001b[0m\u001b[0ma\u001b[0m\u001b[0;34m]\u001b[0m\u001b[0;34m[\u001b[0m\u001b[0ms\u001b[0m\u001b[0;34m]\u001b[0m \u001b[0;34m+\u001b[0m \u001b[0mself\u001b[0m\u001b[0;34m.\u001b[0m\u001b[0mgamma\u001b[0m \u001b[0;34m*\u001b[0m \u001b[0mV\u001b[0m\u001b[0;34m)\u001b[0m\u001b[0;34m,\u001b[0m \u001b[0maxis\u001b[0m\u001b[0;34m=\u001b[0m\u001b[0;36m1\u001b[0m\u001b[0;34m)\u001b[0m\u001b[0;34m\u001b[0m\u001b[0;34m\u001b[0m\u001b[0m\n\u001b[0m\u001b[1;32m     20\u001b[0m             \u001b[0mV_new\u001b[0m \u001b[0;34m=\u001b[0m \u001b[0mnp\u001b[0m\u001b[0;34m.\u001b[0m\u001b[0mmax\u001b[0m\u001b[0;34m(\u001b[0m\u001b[0mQ\u001b[0m\u001b[0;34m,\u001b[0m \u001b[0maxis\u001b[0m\u001b[0;34m=\u001b[0m\u001b[0;36m1\u001b[0m\u001b[0;34m)\u001b[0m\u001b[0;34m\u001b[0m\u001b[0;34m\u001b[0m\u001b[0m\n\u001b[1;32m     21\u001b[0m             \u001b[0;32mif\u001b[0m \u001b[0mnp\u001b[0m\u001b[0;34m.\u001b[0m\u001b[0mmax\u001b[0m\u001b[0;34m(\u001b[0m\u001b[0mnp\u001b[0m\u001b[0;34m.\u001b[0m\u001b[0mabs\u001b[0m\u001b[0;34m(\u001b[0m\u001b[0mV\u001b[0m \u001b[0;34m-\u001b[0m \u001b[0mV_new\u001b[0m\u001b[0;34m)\u001b[0m\u001b[0;34m)\u001b[0m \u001b[0;34m<\u001b[0m \u001b[0mtol\u001b[0m\u001b[0;34m:\u001b[0m\u001b[0;34m\u001b[0m\u001b[0;34m\u001b[0m\u001b[0m\n",
            "\u001b[0;32m/usr/local/lib/python3.10/dist-packages/numpy/core/fromnumeric.py\u001b[0m in \u001b[0;36msum\u001b[0;34m(a, axis, dtype, out, keepdims, initial, where)\u001b[0m\n\u001b[1;32m   2311\u001b[0m         \u001b[0;32mreturn\u001b[0m \u001b[0mres\u001b[0m\u001b[0;34m\u001b[0m\u001b[0;34m\u001b[0m\u001b[0m\n\u001b[1;32m   2312\u001b[0m \u001b[0;34m\u001b[0m\u001b[0m\n\u001b[0;32m-> 2313\u001b[0;31m     return _wrapreduction(a, np.add, 'sum', axis, dtype, out, keepdims=keepdims,\n\u001b[0m\u001b[1;32m   2314\u001b[0m                           initial=initial, where=where)\n\u001b[1;32m   2315\u001b[0m \u001b[0;34m\u001b[0m\u001b[0m\n",
            "\u001b[0;32m/usr/local/lib/python3.10/dist-packages/numpy/core/fromnumeric.py\u001b[0m in \u001b[0;36m_wrapreduction\u001b[0;34m(obj, ufunc, method, axis, dtype, out, **kwargs)\u001b[0m\n\u001b[1;32m     86\u001b[0m                 \u001b[0;32mreturn\u001b[0m \u001b[0mreduction\u001b[0m\u001b[0;34m(\u001b[0m\u001b[0maxis\u001b[0m\u001b[0;34m=\u001b[0m\u001b[0maxis\u001b[0m\u001b[0;34m,\u001b[0m \u001b[0mout\u001b[0m\u001b[0;34m=\u001b[0m\u001b[0mout\u001b[0m\u001b[0;34m,\u001b[0m \u001b[0;34m**\u001b[0m\u001b[0mpasskwargs\u001b[0m\u001b[0;34m)\u001b[0m\u001b[0;34m\u001b[0m\u001b[0;34m\u001b[0m\u001b[0m\n\u001b[1;32m     87\u001b[0m \u001b[0;34m\u001b[0m\u001b[0m\n\u001b[0;32m---> 88\u001b[0;31m     \u001b[0;32mreturn\u001b[0m \u001b[0mufunc\u001b[0m\u001b[0;34m.\u001b[0m\u001b[0mreduce\u001b[0m\u001b[0;34m(\u001b[0m\u001b[0mobj\u001b[0m\u001b[0;34m,\u001b[0m \u001b[0maxis\u001b[0m\u001b[0;34m,\u001b[0m \u001b[0mdtype\u001b[0m\u001b[0;34m,\u001b[0m \u001b[0mout\u001b[0m\u001b[0;34m,\u001b[0m \u001b[0;34m**\u001b[0m\u001b[0mpasskwargs\u001b[0m\u001b[0;34m)\u001b[0m\u001b[0;34m\u001b[0m\u001b[0;34m\u001b[0m\u001b[0m\n\u001b[0m\u001b[1;32m     89\u001b[0m \u001b[0;34m\u001b[0m\u001b[0m\n\u001b[1;32m     90\u001b[0m \u001b[0;34m\u001b[0m\u001b[0m\n",
            "\u001b[0;31mAxisError\u001b[0m: axis 1 is out of bounds for array of dimension 1"
          ]
        }
      ],
      "source": [
        "import numpy as np\n",
        "import networkx as nx\n",
        "import matplotlib.pyplot as plt\n",
        "\n",
        "class MarkovDecisionProcess:\n",
        "    def __init__(self, n_states, n_actions, transition_probs, rewards, gamma=0.9):\n",
        "        self.n_states = n_states\n",
        "        self.n_actions = n_actions\n",
        "        self.transition_probs = transition_probs\n",
        "        self.rewards = rewards\n",
        "        self.gamma = gamma\n",
        "\n",
        "    def value_iteration(self, tol=1e-3):\n",
        "        V = np.zeros(self.n_states)\n",
        "        while True:\n",
        "            Q = np.zeros((self.n_states, self.n_actions))\n",
        "            for s in range(self.n_states):\n",
        "                for a in range(self.n_actions):\n",
        "                    Q[s, a] = np.sum(self.transition_probs[a][s] * (self.rewards[a][s] + self.gamma * V), axis=1)\n",
        "            V_new = np.max(Q, axis=1)\n",
        "            if np.max(np.abs(V - V_new)) < tol:\n",
        "                break\n",
        "            V = V_new\n",
        "        return V\n",
        "\n",
        "    def optimal_policy(self, V):\n",
        "        Q = np.zeros((self.n_states, self.n_actions))\n",
        "        for s in range(self.n_states):\n",
        "            for a in range(self.n_actions):\n",
        "                Q[s, a] = np.sum(self.transition_probs[a][s] * (self.rewards[a][s] + self.gamma * V), axis=1)\n",
        "        return np.argmax(Q, axis=1)\n",
        "\n",
        "transition_probs = np.array([\n",
        "    [\n",
        "        [0.7, 0.3],\n",
        "        [0.3, 0.7]\n",
        "    ],\n",
        "    [\n",
        "        [0.5, 0.5],\n",
        "        [0.8, 0.2]\n",
        "    ]\n",
        "])\n",
        "\n",
        "rewards = np.array([\n",
        "    [\n",
        "        [10, 0],\n",
        "        [0, 0]\n",
        "    ],\n",
        "    [\n",
        "        [0, 0],\n",
        "        [0, 0]\n",
        "    ]\n",
        "])\n",
        "\n",
        "mdp = MarkovDecisionProcess(n_states=2, n_actions=2, transition_probs=transition_probs, rewards=rewards)\n",
        "\n",
        "V = mdp.value_iteration()\n",
        "optimal_policy = mdp.optimal_policy(V)\n",
        "\n",
        "# Create a directed graph\n",
        "G = nx.DiGraph()\n",
        "\n",
        "# Add nodes\n",
        "for i in range(mdp.n_states):\n",
        "    G.add_node(i, label='State {}'.format(i))\n",
        "\n",
        "# Add edges\n",
        "for s in range(mdp.n_states):\n",
        "    for a in range(mdp.n_actions):\n",
        "        next_state = np.argmax(transition_probs[a][s])\n",
        "        G.add_edge(s, next_state, label='Action {}'.format(a))\n",
        "\n",
        "# Draw graph\n",
        "pos = nx.spring_layout(G)\n",
        "nx.draw(G, pos, with_labels=True, node_size=1000, node_color='skyblue', font_size=10, font_weight='bold')\n",
        "edge_labels = {(i, j): d['label'] for i, j, d in G.edges(data=True)}\n",
        "nx.draw_networkx_edge_labels(G, pos, edge_labels=edge_labels, font_color='red')\n",
        "plt.title('Optimal Path for MDP')\n",
        "plt.show()\n"
      ]
    },
    {
      "cell_type": "code",
      "execution_count": null,
      "metadata": {
        "colab": {
          "base_uri": "https://localhost:8080/",
          "height": 472
        },
        "id": "NQU_qgNJUbcF",
        "outputId": "52822151-9d77-4a6e-9ef0-ba0f3151be3e"
      },
      "outputs": [
        {
          "data": {
            "image/png": "[encoded data removed]",
            "text/plain": [
              "<Figure size 640x480 with 1 Axes>"
            ]
          },
          "metadata": {},
          "output_type": "display_data"
        }
      ],
      "source": [
        "plt.bar(range(len(V)), V)\n",
        "plt.xlabel('State')\n",
        "plt.ylabel('Value')\n",
        "plt.title('Optimal Value Function')\n",
        "plt.show()"
      ]
    },
    {
      "cell_type": "markdown",
      "metadata": {
        "id": "-9lJF_j-wJC8"
      },
      "source": [
        "### Q-Learning"
      ]
    },
    {
      "cell_type": "code",
      "execution_count": null,
      "metadata": {
        "colab": {
          "base_uri": "https://localhost:8080/"
        },
        "id": "q9TP4ZWhwLFW",
        "outputId": "641dcd8b-9b62-4132-cbcd-32b8a96776ed"
      },
      "outputs": [
        {
          "name": "stdout",
          "output_type": "stream",
          "text": [
            "\n",
            "Q-values:\n",
            "[[52.12366545 41.07238729]\n",
            " [42.1009586  44.12500692]]\n"
          ]
        }
      ],
      "source": [
        "alpha = 0.1\n",
        "gamma = 0.9\n",
        "epsilon = 0.1\n",
        "n_iter = 10000\n",
        "\n",
        "transition_probs = [\n",
        "    [[0.7, 0.3], [0.3, 0.7]],\n",
        "    [[0.5, 0.5], [0.8, 0.2]]\n",
        "]\n",
        "\n",
        "rewards = [\n",
        "    [[10, 0], [0, 0]],\n",
        "    [[0, 0], [0, 0]]\n",
        "]\n",
        "\n",
        "q_learning = QLearning(n_states=2, n_actions=2, transition_probs=transition_probs, rewards=rewards, alpha=alpha, gamma=gamma, epsilon=epsilon, n_iter=n_iter)\n",
        "\n",
        "Q = q_learning.fit()\n",
        "\n",
        "print(\"\\nQ-values:\")\n",
        "print(Q)"
      ]
    },
    {
      "cell_type": "markdown",
      "metadata": {
        "id": "-gSDi0K8U1Jh"
      },
      "source": [
        "### Bellman Equation"
      ]
    },
    {
      "cell_type": "code",
      "execution_count": null,
      "metadata": {
        "colab": {
          "base_uri": "https://localhost:8080/"
        },
        "id": "ka8lRfNtU2_R",
        "outputId": "81c51cb4-f409-4bfb-a1a9-0340d1c902bc"
      },
      "outputs": [
        {
          "name": "stdout",
          "output_type": "stream",
          "text": [
            "Q-values:\n",
            "[[52.58644829 43.27452168]\n",
            " [44.43048499 46.16442994]]\n"
          ]
        }
      ],
      "source": [
        "import numpy as np\n",
        "\n",
        "class MarkovDecisionProcess:\n",
        "    def __init__(self, n_states, n_actions, transition_probs, rewards, gamma=0.9):\n",
        "        self.n_states = n_states\n",
        "        self.n_actions = n_actions\n",
        "        self.transition_probs = transition_probs\n",
        "        self.rewards = rewards\n",
        "        self.gamma = gamma\n",
        "\n",
        "    def bellman_equation(self, V):\n",
        "        Q = np.zeros((self.n_states, self.n_actions))\n",
        "        for s in range(self.n_states):\n",
        "            for a in range(self.n_actions):\n",
        "                Q[s, a] = sum([self.transition_probs[s][a][s1] * (self.rewards[s][a][s1] + self.gamma * V[s1]) for s1 in range(self.n_states)])\n",
        "        return Q\n",
        "\n",
        "transition_probs = np.array([\n",
        "    [\n",
        "        [0.7, 0.3],\n",
        "        [0.3, 0.7]\n",
        "    ],\n",
        "    [\n",
        "        [0.5, 0.5],\n",
        "        [0.8, 0.2]\n",
        "    ]\n",
        "])\n",
        "\n",
        "rewards = np.array([\n",
        "    [\n",
        "        [10, 0],\n",
        "        [0, 0]\n",
        "    ],\n",
        "    [\n",
        "        [0, 0],\n",
        "        [0, 0]\n",
        "    ]\n",
        "])\n",
        "\n",
        "mdp = MarkovDecisionProcess(n_states=2, n_actions=2, transition_probs=transition_probs, rewards=rewards)\n",
        "\n",
        "Q = mdp.bellman_equation(V)\n",
        "\n",
        "print(\"Q-values:\")\n",
        "print(Q)\n"
      ]
    }
  ],
  "metadata": {
    "colab": {
      "provenance": [],
      "authorship_tag": "ABX9TyOKmULfDTNw36p1GYMKP7TP",
      "include_colab_link": true
    },
    "kernelspec": {
      "display_name": "Python 3",
      "name": "python3"
    },
    "language_info": {
      "name": "python"
    }
  },
  "nbformat": 4,
  "nbformat_minor": 0
}